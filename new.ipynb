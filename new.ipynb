{
 "cells": [
  {
   "cell_type": "markdown",
   "metadata": {},
   "source": [
    "# With `geom_gcn_preprocess` set to `False`"
   ]
  },
  {
   "cell_type": "code",
   "execution_count": 33,
   "metadata": {},
   "outputs": [
    {
     "name": "stdout",
     "output_type": "stream",
     "text": [
      "Data(x=[2277, 128], edge_index=[2, 62792], y=[2277])\n",
      "Data(x=[5201, 128], edge_index=[2, 396846], y=[5201])\n",
      "Data(x=[11631, 128], edge_index=[2, 341691], y=[11631])\n"
     ]
    }
   ],
   "source": [
    "import torch \n",
    "from torch_geometric.datasets import WikipediaNetwork\n",
    "from torch_geometric.data import Data\n",
    "\n",
    "D1 = []\n",
    "\n",
    "datasets = [\"chameleon\", \"squirrel\", \"crocodile\"]\n",
    "for dataset in datasets:\n",
    "    data = WikipediaNetwork(root=f'.\\\\tmp\\\\Wikipedia1\\\\{dataset}', name = f\"{dataset}\", geom_gcn_preprocess=False) ##### IMP: geom_gcn_preprocess = False\n",
    "    data = data[0]\n",
    "    print(data)\n",
    "    D1.append(data)"
   ]
  },
  {
   "cell_type": "markdown",
   "metadata": {},
   "source": [
    "![image](geom_gcn_preprocess.png)"
   ]
  },
  {
   "cell_type": "code",
   "execution_count": 34,
   "metadata": {},
   "outputs": [
    {
     "data": {
      "text/plain": [
       "(tensor([[-2.9467e-01, -8.0566e-02, -1.5377e-01,  ..., -1.2768e-01,\n",
       "          -1.5202e-01, -1.6299e-01],\n",
       "         [-2.0747e-01, -8.0566e-02, -1.5377e-01,  ..., -1.2768e-01,\n",
       "          -1.5202e-01, -1.6299e-01],\n",
       "         [-2.9467e-01, -8.0566e-02, -1.5377e-01,  ..., -1.2768e-01,\n",
       "          -1.5202e-01, -1.6299e-01],\n",
       "         ...,\n",
       "         [-2.9467e-01,  6.5435e-03, -1.5377e-01,  ..., -1.2768e-01,\n",
       "          -1.5202e-01, -1.6299e-01],\n",
       "         [-2.0887e-01, -8.0566e-02, -1.5377e-01,  ...,  1.1396e+01,\n",
       "          -1.5202e-01, -1.6299e-01],\n",
       "         [-2.9467e-01, -8.0566e-02, -1.5377e-01,  ..., -1.2768e-01,\n",
       "          -8.3011e-02, -1.6299e-01]]),\n",
       " tensor([ 5.1475,  8.9984,  9.0559,  ...,  4.6052, 10.0388,  5.6240]))"
      ]
     },
     "execution_count": 34,
     "metadata": {},
     "output_type": "execute_result"
    }
   ],
   "source": [
    "D1[0].x, D1[0].y # Continuous features and labels"
   ]
  },
  {
   "cell_type": "markdown",
   "metadata": {},
   "source": [
    "# With `geom_gcn_preprocess` set to `True`"
   ]
  },
  {
   "cell_type": "code",
   "execution_count": 7,
   "metadata": {},
   "outputs": [
    {
     "name": "stdout",
     "output_type": "stream",
     "text": [
      "Data(x=[2277, 2325], edge_index=[2, 36101], y=[2277], train_mask=[2277, 10], val_mask=[2277, 10], test_mask=[2277, 10])\n",
      "Data(x=[5201, 2089], edge_index=[2, 217073], y=[5201], train_mask=[5201, 10], val_mask=[5201, 10], test_mask=[5201, 10])\n"
     ]
    }
   ],
   "source": [
    "import torch \n",
    "from torch_geometric.datasets import WikipediaNetwork\n",
    "from torch_geometric.data import Data\n",
    "\n",
    "D2 = []\n",
    "\n",
    "datasets = [\"chameleon\", \"squirrel\"]\n",
    "for dataset in datasets:\n",
    "    data = WikipediaNetwork(root=f'.\\\\tmp\\\\Wikipedia2\\\\{dataset}', name = f\"{dataset}\", geom_gcn_preprocess=True) ##### IMP: geom_gcn_preprocess = True\n",
    "    data = data[0]\n",
    "    print(data)\n",
    "    D2.append(data)"
   ]
  },
  {
   "cell_type": "code",
   "execution_count": 8,
   "metadata": {},
   "outputs": [
    {
     "data": {
      "text/plain": [
       "(tensor([[0., 0., 0.,  ..., 0., 0., 0.],\n",
       "         [0., 0., 0.,  ..., 0., 0., 0.],\n",
       "         [0., 0., 0.,  ..., 0., 0., 0.],\n",
       "         ...,\n",
       "         [0., 0., 0.,  ..., 0., 0., 0.],\n",
       "         [0., 1., 0.,  ..., 0., 0., 0.],\n",
       "         [0., 0., 0.,  ..., 0., 0., 0.]]),\n",
       " tensor([0, 3, 3,  ..., 0, 4, 0]))"
      ]
     },
     "execution_count": 8,
     "metadata": {},
     "output_type": "execute_result"
    }
   ],
   "source": [
    "D2[0].x, D2[0].y"
   ]
  },
  {
   "cell_type": "code",
   "execution_count": 45,
   "metadata": {},
   "outputs": [
    {
     "name": "stdout",
     "output_type": "stream",
     "text": [
      "tensor(7.)\n",
      "tensor([0, 1, 2, 3, 4])\n",
      "tensor([[False, False,  True,  True,  True, False,  True,  True, False,  True],\n",
      "        [ True,  True, False, False, False,  True, False, False,  True, False],\n",
      "        [False, False, False, False, False, False, False, False, False, False]])\n"
     ]
    }
   ],
   "source": [
    "print(torch.sum(D2[0].x[0, :])) ## Very sparse feature vector (seems discrete)\n",
    "print(torch.unique(D2[0].y)) # 5 Discrete classes for Chameleon dataset\n",
    "print(torch.cat([D2[0].train_mask[0, :].view(1, -1), D2[0].val_mask[0, :].view(1, -1), D2[0].test_mask[0, :].view(1, -1)], axis = 0)) # Disjoint division of 10 'things' for each sample accross train, val and test"
   ]
  }
 ],
 "metadata": {
  "kernelspec": {
   "display_name": ".venv",
   "language": "python",
   "name": "python3"
  },
  "language_info": {
   "codemirror_mode": {
    "name": "ipython",
    "version": 3
   },
   "file_extension": ".py",
   "mimetype": "text/x-python",
   "name": "python",
   "nbconvert_exporter": "python",
   "pygments_lexer": "ipython3",
   "version": "3.12.0"
  }
 },
 "nbformat": 4,
 "nbformat_minor": 2
}
